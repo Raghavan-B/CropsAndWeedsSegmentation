{
 "cells": [
  {
   "cell_type": "code",
   "execution_count": 1,
   "metadata": {},
   "outputs": [
    {
     "data": {
      "text/plain": [
       "'c:\\\\Users\\\\Raghavan\\\\Documents\\\\CropsAndWeedsSegmentation\\\\research'"
      ]
     },
     "execution_count": 1,
     "metadata": {},
     "output_type": "execute_result"
    }
   ],
   "source": [
    "%pwd"
   ]
  },
  {
   "cell_type": "code",
   "execution_count": 2,
   "metadata": {},
   "outputs": [],
   "source": [
    "import os\n",
    "os.chdir('../')"
   ]
  },
  {
   "cell_type": "code",
   "execution_count": 10,
   "metadata": {},
   "outputs": [],
   "source": [
    "from dataclasses import dataclass\n",
    "from pathlib import Path\n",
    "\n",
    "@dataclass\n",
    "class DataIngestionConfig:\n",
    "    root_dir: Path\n",
    "\n",
    "    train_img_dir: Path\n",
    "    train_mask_dir: Path\n",
    "    \n",
    "    test_img_dir: Path\n",
    "    test_mask_dir: Path\n",
    "    \n",
    "    val_img_dir: Path\n",
    "    val_mask_dir: Path\n",
    "    \n",
    "    others_img_dir: Path\n",
    "    \n",
    "    mongo_uri: str\n",
    "    database_name: str\n",
    "    collection_name: str\n",
    "\n"
   ]
  },
  {
   "cell_type": "code",
   "execution_count": 14,
   "metadata": {},
   "outputs": [],
   "source": [
    "from src.cropsAndWeedsSegmentation.constants import *\n",
    "from src.cropsAndWeedsSegmentation.utils.common import read_yaml,create_directories\n",
    "class ConfigurationManager:\n",
    "    def __init__(self,config_filepath=CONFIG_FILE_PATH,params_filepath = PARAMS_FILE_PATH):\n",
    "        self.config = read_yaml(config_filepath)\n",
    "        self.params = read_yaml(params_filepath)\n",
    "\n",
    "        create_directories([self.config.artifacts_root])\n",
    "\n",
    "    def get_data_ingestion_config(self,mongo_uri:str)->DataIngestionConfig:\n",
    "        config = self.config.data_ingestion\n",
    "        create_directories([config.root_dir,config.train_img_dir,config.train_mask_dir,config.test_img_dir,config.test_mask_dir,config.val_img_dir,config.val_mask_dir,config.others_img_dir])  \n",
    "\n",
    "        data_ingestion_config = DataIngestionConfig(\n",
    "            root_dir=config.root_dir,\n",
    "            \n",
    "            train_img_dir=config.train_img_dir,\n",
    "            train_mask_dir= config.train_mask_dir,\n",
    "\n",
    "            test_img_dir=config.test_img_dir,\n",
    "            test_mask_dir= config.test_mask_dir,\n",
    "\n",
    "            val_img_dir=config.val_img_dir,\n",
    "            val_mask_dir= config.val_mask_dir,\n",
    "\n",
    "            others_img_dir=config.others_img_dir,\n",
    "\n",
    "            mongo_uri=mongo_uri,\n",
    "            database_name=config.database_name,\n",
    "            collection_name=config.collection_name\n",
    "        )      \n",
    "        return data_ingestion_config\n",
    "    \n",
    "\n"
   ]
  },
  {
   "cell_type": "code",
   "execution_count": 17,
   "metadata": {},
   "outputs": [],
   "source": [
    "from pymongo.mongo_client import MongoClient\n",
    "from pymongo.server_api import ServerApi\n",
    "import certifi\n",
    "from src.cropsAndWeedsSegmentation.logging.logger import logger\n",
    "from src.cropsAndWeedsSegmentation.exception.exception import SegmentationException\n",
    "import sys\n",
    "from PIL import Image\n",
    "import io\n",
    "from box import ConfigBox\n",
    "from typing import Tuple\n",
    "import pymongo\n",
    "\n",
    "## component\n",
    "class DataIngestion:\n",
    "    def __init__(self,config:DataIngestionConfig):\n",
    "        self.config = config\n",
    "\n",
    "    def get_image_docs_from_mongo_db(self)->Tuple[pymongo.cursor.Cursor, pymongo.cursor.Cursor, pymongo.cursor.Cursor, pymongo.cursor.Cursor]:\n",
    "        '''\n",
    "        '''\n",
    "        client = MongoClient(self.config.mongo_uri, tlsCAFile= certifi.where(),server_api = ServerApi('1'))\n",
    "        db = client[self.config.database_name]\n",
    "        collection = db[self.config.collection_name]\n",
    "\n",
    "        train_img_docs = collection.find({'category':'train'})\n",
    "        val_img_docs = collection.find({'category':'val'})\n",
    "        test_img_docs = collection.find({'category':'test'})\n",
    "        others_img_docs = collection.find({'category':'others'})\n",
    "        \n",
    "        logger.info('All the required documents retrieved successfully!!')\n",
    "        return train_img_docs,val_img_docs,test_img_docs,others_img_docs\n",
    "\n",
    "\n",
    "    def store_img_docs_locally(self,docs:ConfigBox,split:str)->None:\n",
    "        '''\n",
    "        '''\n",
    "        for doc in docs:\n",
    "\n",
    "            img = Image.open(io.BytesIO(doc[\"image\"]))\n",
    "            img_name = f'{doc[\"filename\"]}.jpg'\n",
    "            img_filepath = os.path.join(self.config.root_dir,doc[\"category\"],'img',img_name)\n",
    "            img.save(img_filepath)\n",
    "\n",
    "            if doc[\"mask\"]!=None:    \n",
    "                mask = Image.open(io.BytesIO(doc[\"mask\"]))\n",
    "                mask_name = f'{doc[\"filename\"]}.png'\n",
    "                mask_filepath = os.path.join(self.config.root_dir,doc[\"category\"],'mask',mask_name)\n",
    "                mask.save(mask_filepath)\n",
    "            \n",
    "        logger.info(f'All the images and respective masks of {split} set were loaded to {self.config.root_dir} successfully')\n",
    "\n",
    "\n",
    "## root dir --> root_dir/category/"
   ]
  },
  {
   "cell_type": "code",
   "execution_count": 18,
   "metadata": {},
   "outputs": [
    {
     "name": "stdout",
     "output_type": "stream",
     "text": [
      "[2025-03-09 20:59:58,170: INFO: common: Yaml file: config\\config.yaml loaded successfully]\n",
      "[2025-03-09 20:59:58,173: INFO: common: Yaml file: params.yaml loaded successfully]\n",
      "[2025-03-09 20:59:58,176: INFO: common: Created directory at: artifacts]\n",
      "[2025-03-09 20:59:58,177: INFO: common: Created directory at: artifacts/data_ingestion]\n",
      "[2025-03-09 20:59:58,180: INFO: common: Created directory at: artifacts/data_ingestion/train/img]\n",
      "[2025-03-09 20:59:58,182: INFO: common: Created directory at: artifacts/data_ingestion/train/mask]\n",
      "[2025-03-09 20:59:58,186: INFO: common: Created directory at: artifacts/data_ingestion/test/img]\n",
      "[2025-03-09 20:59:58,188: INFO: common: Created directory at: artifacts/data_ingestion/test/mask]\n",
      "[2025-03-09 20:59:58,192: INFO: common: Created directory at: artifacts/data_ingestion/val/img]\n",
      "[2025-03-09 20:59:58,194: INFO: common: Created directory at: artifacts/data_ingestion/val/mask]\n",
      "[2025-03-09 20:59:58,197: INFO: common: Created directory at: artifacts/data_ingestion/others/img]\n",
      "[2025-03-09 21:00:02,866: INFO: 3702867162: All the required documents retrieved successfully!!]\n",
      "[2025-03-09 21:00:09,277: INFO: 3702867162: All the images and respective masks of train set were loaded to artifacts/data_ingestion successfully]\n",
      "[2025-03-09 21:00:10,015: INFO: 3702867162: All the images and respective masks of val set were loaded to artifacts/data_ingestion successfully]\n",
      "[2025-03-09 21:00:10,923: INFO: 3702867162: All the images and respective masks of test set were loaded to artifacts/data_ingestion successfully]\n",
      "[2025-03-09 21:00:11,521: INFO: 3702867162: All the images and respective masks of others set were loaded to artifacts/data_ingestion successfully]\n"
     ]
    }
   ],
   "source": [
    "##pipeline\n",
    "import os\n",
    "from dotenv import load_dotenv\n",
    "load_dotenv()\n",
    "mongo_uri = os.getenv('MONGO_URL')\n",
    "try:\n",
    "    config = ConfigurationManager()\n",
    "    data_ingestion_config = config.get_data_ingestion_config(mongo_uri=mongo_uri)\n",
    "    \n",
    "    data_ingestion = DataIngestion(data_ingestion_config)\n",
    "    \n",
    "    train_img_docs,val_img_docs,test_img_docs,others_img_docs = data_ingestion.get_image_docs_from_mongo_db()\n",
    "    ## storing train docs\n",
    "    data_ingestion.store_img_docs_locally(train_img_docs,'train')\n",
    "    ## storing train docs\n",
    "    data_ingestion.store_img_docs_locally(val_img_docs,'val')\n",
    "    ## storing train docs\n",
    "    data_ingestion.store_img_docs_locally(test_img_docs,'test')\n",
    "    ## storing train docs\n",
    "    data_ingestion.store_img_docs_locally(others_img_docs,'others')\n",
    "\n",
    "except Exception as e:\n",
    "    logger.error(f'Error occured : {e}')\n",
    "    raise SegmentationException(e,sys)\n"
   ]
  },
  {
   "cell_type": "code",
   "execution_count": null,
   "metadata": {},
   "outputs": [],
   "source": []
  }
 ],
 "metadata": {
  "kernelspec": {
   "display_name": "Python 3",
   "language": "python",
   "name": "python3"
  },
  "language_info": {
   "codemirror_mode": {
    "name": "ipython",
    "version": 3
   },
   "file_extension": ".py",
   "mimetype": "text/x-python",
   "name": "python",
   "nbconvert_exporter": "python",
   "pygments_lexer": "ipython3",
   "version": "3.12.9"
  }
 },
 "nbformat": 4,
 "nbformat_minor": 2
}
