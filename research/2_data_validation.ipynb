{
 "cells": [
  {
   "cell_type": "code",
   "execution_count": 1,
   "metadata": {},
   "outputs": [
    {
     "data": {
      "text/plain": [
       "'c:\\\\Users\\\\Raghavan\\\\Documents\\\\CropsAndWeedsSegmentation\\\\research'"
      ]
     },
     "execution_count": 1,
     "metadata": {},
     "output_type": "execute_result"
    }
   ],
   "source": [
    "import os\n",
    "%pwd"
   ]
  },
  {
   "cell_type": "code",
   "execution_count": 2,
   "metadata": {},
   "outputs": [],
   "source": [
    "os.chdir('../')"
   ]
  },
  {
   "cell_type": "code",
   "execution_count": 11,
   "metadata": {},
   "outputs": [
    {
     "data": {
      "text/plain": [
       "False"
      ]
     },
     "execution_count": 11,
     "metadata": {},
     "output_type": "execute_result"
    }
   ],
   "source": [
    "## config \n",
    "from PIL import Image\n",
    "\n",
    "img = Image.open('artifacts/data_ingestion/train/img/20824007_frame_000015.jpg')\n",
    "mask = Image.open('artifacts/data_ingestion/train/mask/20824007_frame_000015.png')\n",
    "\n",
    "img.size == (224,2724)"
   ]
  },
  {
   "cell_type": "code",
   "execution_count": null,
   "metadata": {},
   "outputs": [
    {
     "data": {
      "text/plain": [
       "True"
      ]
     },
     "execution_count": 6,
     "metadata": {},
     "output_type": "execute_result"
    }
   ],
   "source": [
    "from PIL.JpegImagePlugin import JpegImageFile\n",
    "from PIL.PngImagePlugin import PngImageFile\n",
    "isinstance(img,PngImageFile)"
   ]
  },
  {
   "cell_type": "code",
   "execution_count": 15,
   "metadata": {},
   "outputs": [],
   "source": [
    "from dataclasses import dataclass\n",
    "from pathlib import Path\n",
    "\n",
    "@dataclass\n",
    "class DataValidationConfig:\n",
    "    root_dir: Path\n",
    "    data_dir: Path\n",
    "    STATUS_FILE: Path\n",
    "    all_schema: dict\n",
    "\n",
    "\n"
   ]
  },
  {
   "cell_type": "code",
   "execution_count": 16,
   "metadata": {},
   "outputs": [],
   "source": [
    "from src.cropsAndWeedsSegmentation.constants import *\n",
    "from src.cropsAndWeedsSegmentation.utils.common import read_yaml,create_directories\n",
    "\n",
    "class ConfigurationManager:\n",
    "    def __init__(self,config_filepath=CONFIG_FILE_PATH,params_filepath = PARAMS_FILE_PATH,schema_filepath = SCHEMA_FILE_PATH):\n",
    "        self.config = read_yaml(config_filepath)\n",
    "        self.params = read_yaml(params_filepath)\n",
    "        self.schema = read_yaml(schema_filepath)\n",
    "\n",
    "        create_directories([self.config.artifacts_root])\n",
    "\n",
    "    def get_data_ingestion_config(self,mongo_uri:str)->DataValidationConfig:\n",
    "        config = self.config.data_ingestion\n",
    "        create_directories([config.root_dir,config.train_img_dir,config.train_mask_dir,config.test_img_dir,config.test_mask_dir,config.val_img_dir,config.val_mask_dir,config.others_img_dir])  \n",
    "\n",
    "        data_ingestion_config = DataValidationConfig(\n",
    "            root_dir=config.root_dir,\n",
    "            \n",
    "            train_img_dir=config.train_img_dir,\n",
    "            train_mask_dir= config.train_mask_dir,\n",
    "\n",
    "            test_img_dir=config.test_img_dir,\n",
    "            test_mask_dir= config.test_mask_dir,\n",
    "\n",
    "            val_img_dir=config.val_img_dir,\n",
    "            val_mask_dir= config.val_mask_dir,\n",
    "\n",
    "            others_img_dir=config.others_img_dir,\n",
    "\n",
    "            mongo_uri=mongo_uri,\n",
    "            database_name=config.database_name,\n",
    "            collection_name=config.collection_name\n",
    "        )      \n",
    "        return data_ingestion_config\n",
    "    \n",
    "    def get_data_validation_config(self)->DataValidationConfig:\n",
    "        config = self.config.data_validation\n",
    "        schema = self.schema.InputImg\n",
    "\n",
    "        create_directories([config.root_dir])\n",
    "\n",
    "        data_validation_config = DataValidationConfig(\n",
    "            root_dir=config.root_dir,\n",
    "            STATUS_FILE=config.STATUS_FILE,\n",
    "            data_dir=config.data_dir,\n",
    "            all_schema=schema\n",
    "        )\n",
    "\n",
    "        return data_validation_config\n",
    "    \n",
    "    \n",
    "\n"
   ]
  },
  {
   "cell_type": "code",
   "execution_count": 33,
   "metadata": {},
   "outputs": [],
   "source": [
    "from src.cropsAndWeedsSegmentation.logging.logger import logger\n",
    "import os\n",
    "from PIL import Image\n",
    "from PIL.JpegImagePlugin import JpegImageFile\n",
    "\n",
    "class DataValidation:\n",
    "    def __init__(self,config:DataValidationConfig):\n",
    "        self.config = config\n",
    "        self.type = {\n",
    "            \"JpegImageFile\": JpegImageFile\n",
    "        }\n",
    "\n",
    "    def validate_dataset(self)->bool:\n",
    "        validation_status = False\n",
    "        folders = ['train','test','val','others']\n",
    "        for folder in folders:\n",
    "            folder_path = os.path.join(self.config.data_dir,folder,'img')\n",
    "            for img_file in os.listdir(folder_path):\n",
    "                img_filePath = os.path.join(folder_path,img_file)\n",
    "                img = Image.open(img_filePath)\n",
    "\n",
    "                if not isinstance(img,self.type[self.config.all_schema.type]) and img.size != (self.config.all_schema.height,self.config.all_schema.width):\n",
    "                    with open(self.config.STATUS_FILE,'w') as file:\n",
    "                        file.write(f'Validation status: False')\n",
    "                    return False\n",
    "                \n",
    "        with open(self.config.STATUS_FILE,'w') as file:\n",
    "            file.write(f'Validation status: True')\n",
    "        return True\n"
   ]
  },
  {
   "cell_type": "code",
   "execution_count": 34,
   "metadata": {},
   "outputs": [
    {
     "name": "stdout",
     "output_type": "stream",
     "text": [
      "[2025-03-09 22:29:49,851: INFO: common: Yaml file: config\\config.yaml loaded successfully]\n",
      "[2025-03-09 22:29:49,854: INFO: common: Yaml file: params.yaml loaded successfully]\n",
      "[2025-03-09 22:29:49,859: INFO: common: Yaml file: schema.yaml loaded successfully]\n",
      "[2025-03-09 22:29:49,865: INFO: common: Created directory at: artifacts]\n",
      "[2025-03-09 22:29:49,867: INFO: common: Created directory at: artifacts/data_validation]\n"
     ]
    }
   ],
   "source": [
    "try:\n",
    "    config = ConfigurationManager()\n",
    "    data_validaion_config = config.get_data_validation_config()\n",
    "    data_validation = DataValidation(config=data_validaion_config)\n",
    "    data_validation.validate_dataset()\n",
    "except Exception as e:\n",
    "    raise e"
   ]
  },
  {
   "cell_type": "code",
   "execution_count": null,
   "metadata": {},
   "outputs": [],
   "source": []
  }
 ],
 "metadata": {
  "kernelspec": {
   "display_name": "Python 3",
   "language": "python",
   "name": "python3"
  },
  "language_info": {
   "codemirror_mode": {
    "name": "ipython",
    "version": 3
   },
   "file_extension": ".py",
   "mimetype": "text/x-python",
   "name": "python",
   "nbconvert_exporter": "python",
   "pygments_lexer": "ipython3",
   "version": "3.12.9"
  }
 },
 "nbformat": 4,
 "nbformat_minor": 2
}
